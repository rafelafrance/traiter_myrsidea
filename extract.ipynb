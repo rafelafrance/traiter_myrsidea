{
 "cells": [
  {
   "cell_type": "markdown",
   "id": "4b509967-02ae-4795-8ca1-50bbb3b2cd3e",
   "metadata": {},
   "source": [
    "# Parse a Text version of a Paper"
   ]
  },
  {
   "cell_type": "markdown",
   "id": "72b9a9c8-7b94-4510-ba44-12cf5c6c3a55",
   "metadata": {},
   "source": [
    "## Setup"
   ]
  },
  {
   "cell_type": "code",
   "execution_count": 1,
   "id": "3bf07b5d-d3ea-45c3-bb84-507e6048deb7",
   "metadata": {},
   "outputs": [],
   "source": [
    "%load_ext autoreload\n",
    "%autoreload 2"
   ]
  },
  {
   "cell_type": "code",
   "execution_count": 2,
   "id": "5de0d77b-9cbc-4c56-8f5f-3bf26a2e65fc",
   "metadata": {},
   "outputs": [],
   "source": [
    "from IPython.display import display\n",
    "\n",
    "from ipyfilechooser import FileChooser"
   ]
  },
  {
   "cell_type": "markdown",
   "id": "9aa41a84-9d3b-40e1-8b96-c352070b65c1",
   "metadata": {},
   "source": [
    "## Choose input text file"
   ]
  },
  {
   "cell_type": "code",
   "execution_count": 3,
   "id": "8e602371-10a2-49d0-b53e-b0f6d9eaf071",
   "metadata": {},
   "outputs": [
    {
     "data": {
      "application/vnd.jupyter.widget-view+json": {
       "model_id": "4250bf51ce0a49c0b4cb1abcece8dec6",
       "version_major": 2,
       "version_minor": 0
      },
      "text/plain": [
       "FileChooser(path='.', filename='', title='HTML(value='', layout=Layout(display='none'))', show_hidden='False',…"
      ]
     },
     "metadata": {},
     "output_type": "display_data"
    }
   ],
   "source": [
    "text_file = FileChooser('.')\n",
    "text_file.use_dir_icons = True\n",
    "display(text_file)"
   ]
  },
  {
   "cell_type": "markdown",
   "id": "f847e617-275f-45b1-aba7-ceca44ace3ac",
   "metadata": {},
   "source": [
    "## Choose output HTML file"
   ]
  },
  {
   "cell_type": "code",
   "execution_count": 4,
   "id": "c4ed054a-c879-4fd1-a066-517b3fc43f01",
   "metadata": {},
   "outputs": [
    {
     "data": {
      "application/vnd.jupyter.widget-view+json": {
       "model_id": "1392b70c11b34c41aa92e58fe4ed0ba9",
       "version_major": 2,
       "version_minor": 0
      },
      "text/plain": [
       "FileChooser(path='.', filename='68930.txt.html', title='HTML(value='', layout=Layout(display='none'))', show_h…"
      ]
     },
     "metadata": {},
     "output_type": "display_data"
    }
   ],
   "source": [
    "html_file = FileChooser('.')\n",
    "name = text_file.selected_filename if text_file.selected_filename else ''\n",
    "html_file.default_filename = f'{name}.html' if name else ''\n",
    "html_file.use_dir_icons = True\n",
    "display(html_file)"
   ]
  },
  {
   "cell_type": "markdown",
   "id": "2b79cace-03a8-4279-91d6-20256e7ad6a6",
   "metadata": {},
   "source": [
    "## Read data"
   ]
  },
  {
   "cell_type": "code",
   "execution_count": 6,
   "id": "e5ad0512-7fed-4e79-bc90-aaf96a382529",
   "metadata": {},
   "outputs": [],
   "source": [
    "with open(text_file.selected) as in_file:\n",
    "    lines = [ln.strip() for ln in in_file.readlines()]"
   ]
  },
  {
   "cell_type": "code",
   "execution_count": 7,
   "id": "acb22cce-2a12-46d1-ad79-6098486b27e7",
   "metadata": {},
   "outputs": [
    {
     "name": "stdout",
     "output_type": "stream",
     "text": [
      "The Chewing Lice (Insecta, Phthiraptera) Fauna of the Swainson's Warbler, Limnothlypis swainsonii (Aves, Parulidae)\n",
      "\n",
      "descriptions and illustrations are provided for Myrsidea bensoni sp. nov. and Brueelia limnothlypiae sp. nov.; including a key for females of the genus Myrsidea that parasitize Parulidae (Passeriformes).\n",
      "\n",
      "There are only 18 species of chewing lice described from warblers of the family Parulidae (Aves: Passeriformes) (Price et al. 2003, Kounek et al. 2011). In North America, there are four recognized genera of chewing lice with species described on birds from the family Parulidae: Brueelia Kéler, 1936 (Ischnocera, Philopteridae), Menacanthus Neumann, 1912, Myrsidea Waterston, 1915 (Amblycera, Menoponidae), and Ricinus DeGeer, 1778 (Amblycera, Ricinidae) (Price et al. 2003). From these genera, only one species was described in the genus Brueelia—B. interposita (Kellogg, 1899)—from two species of Dendroica (Kellogg 1899, Cicchino 1983) and five species were described in the genus Myrsidea from warbler hosts (Palma and Price 2010, Kounek et al. 2011).\n",
      "\n",
      "The purpose of this paper is to describe two species of chewing lice found on the Swainson's warbler—Limnothlypis swainsonii (Audubon, 1834), a monotypic genus of the family Parulidae—composed by two species of the genera Myrsidea and Brueelia, described below. Up to the present, there are no records of any chewing lice from the Swainson's warbler (Price et al. 2003). We also provide a key for identification of females of species of Myrsidea parasitizing Parulidae.\n",
      "\n",
      "'Museu de Zoologia da USP, Av. Nazaré, 481, Ipiranga, Sao Paulo, SP) 04263-000, Brazil.\n",
      "\n",
      "Material and Methods\n",
      "\n",
      "Study Area. We conducted field work during the spring and summers of 2009 and 2010 at three study sites in Arkansas: Big Island, Saint Francis National Forest, and White River National Wildlife Refuge as part of a broader study evaluating the effects of a flood on the Swainson's warbler (Reiley 2011).\n",
      "\n",
      "Big Island (33° 53°35.4732\" N; 91° 05°32.1469\" W) is a large island (9,700 ha) bounded by the White River to the north, the Arkansas River to the west, and the Mississippi River to the east. The island was owned by a\n",
      "\n",
      "forest-products company, Anderson-Tully, which harvested timber there yearly; this resulted in habitat that was a mosaic of different age stands of bottomland hardwood forest. Dominant trees and understory shrubs in areas occupied by Swainson's warblers at Big Island was similar to White River NWR (Benson et al. 2009).\n",
      "\n",
      "Saint Francis National Forest (34° 36°16.8084\" N; 90° 36'40.2357\" W) is a 9,100-ha mix of upland forest and bottomland forest located at the southern tip of Crowley's Ridge. It was located in Lee and Phillips counties in southeastern Arkansas and bordered to the east by the St. Francis and Mississippi rivers. Areas occupied by Swainson's warblers in Saint Francis National Forest were along streams in upland areas and in swamps within bottomland hardwood forest (Anich et al. 2009).\n",
      "\n"
     ]
    }
   ],
   "source": [
    "for ln in lines[:10]:\n",
    "    print(ln)\n",
    "    print()"
   ]
  },
  {
   "cell_type": "code",
   "execution_count": null,
   "id": "f4c17296-3c1e-42b9-9e45-f4a3a0ba8b57",
   "metadata": {},
   "outputs": [],
   "source": []
  }
 ],
 "metadata": {
  "kernelspec": {
   "display_name": "Python 3",
   "language": "python",
   "name": "python3"
  },
  "language_info": {
   "codemirror_mode": {
    "name": "ipython",
    "version": 3
   },
   "file_extension": ".py",
   "mimetype": "text/x-python",
   "name": "python",
   "nbconvert_exporter": "python",
   "pygments_lexer": "ipython3",
   "version": "3.9.0+"
  }
 },
 "nbformat": 4,
 "nbformat_minor": 5
}
