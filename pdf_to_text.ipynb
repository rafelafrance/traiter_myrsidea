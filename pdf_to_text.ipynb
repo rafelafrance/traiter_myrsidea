{
 "cells": [
  {
   "cell_type": "markdown",
   "id": "a02fb5fa-c438-41ff-b79f-cc0cb4d90940",
   "metadata": {},
   "source": [
    "# Extract Text from PDF"
   ]
  },
  {
   "cell_type": "code",
   "execution_count": 1,
   "id": "a25ac132-c865-48f3-8d64-849abe7b7c7f",
   "metadata": {},
   "outputs": [],
   "source": [
    "%load_ext autoreload\n",
    "%autoreload 2"
   ]
  },
  {
   "cell_type": "code",
   "execution_count": 2,
   "id": "786dd57b-8847-454e-b75c-2d44f83dae3a",
   "metadata": {},
   "outputs": [],
   "source": [
    "import re\n",
    "import tempfile\n",
    "\n",
    "import pytesseract\n",
    "from ipyfilechooser import FileChooser\n",
    "from IPython.display import display\n",
    "from pdf2image import convert_from_path\n",
    "from tqdm import tqdm\n",
    "from traiter.util import clean_text\n",
    "\n",
    "from myrsidea.pylib.const import TESS_CONFIG"
   ]
  },
  {
   "cell_type": "markdown",
   "id": "beeddf32-7db6-4c02-a85a-18b64fb26d62",
   "metadata": {},
   "source": [
    "## Choose a PDF file"
   ]
  },
  {
   "cell_type": "code",
   "execution_count": 3,
   "id": "78cf854b-77e2-4e28-bb4d-3f5e159fb4f7",
   "metadata": {},
   "outputs": [
    {
     "data": {
      "application/vnd.jupyter.widget-view+json": {
       "model_id": "95c1867852d54503bc40c5d4da952d02",
       "version_major": 2,
       "version_minor": 0
      },
      "text/plain": [
       "FileChooser(path='.', filename='', title='HTML(value='', layout=Layout(display='none'))', show_hidden='False',…"
      ]
     },
     "metadata": {},
     "output_type": "display_data"
    }
   ],
   "source": [
    "pdf_file = FileChooser('.')\n",
    "pdf_file.use_dir_icons = True\n",
    "display(pdf_file)"
   ]
  },
  {
   "cell_type": "markdown",
   "id": "a1076ab8-538e-4721-a1b7-ab94351f673a",
   "metadata": {},
   "source": [
    "## Choose an output text file"
   ]
  },
  {
   "cell_type": "code",
   "execution_count": 4,
   "id": "18ff9566-d4df-4f6e-a62c-6a943a60d6af",
   "metadata": {},
   "outputs": [
    {
     "data": {
      "application/vnd.jupyter.widget-view+json": {
       "model_id": "1556e4383f254336aad73aa01b7bb226",
       "version_major": 2,
       "version_minor": 0
      },
      "text/plain": [
       "FileChooser(path='.', filename='Price_louse.pdf.txt', title='HTML(value='', layout=Layout(display='none'))', s…"
      ]
     },
     "metadata": {},
     "output_type": "display_data"
    }
   ],
   "source": [
    "text_file = FileChooser('.')\n",
    "name = pdf_file.selected_filename if pdf_file.selected_filename else ''\n",
    "text_file.default_filename = f'{name}.txt' if name else ''\n",
    "text_file.use_dir_icons = True\n",
    "display(text_file)"
   ]
  },
  {
   "cell_type": "markdown",
   "id": "48ed3640-8d93-43b0-9e5c-fdf400cf6c31",
   "metadata": {},
   "source": [
    "## Extract using pytesseract"
   ]
  },
  {
   "cell_type": "markdown",
   "id": "0d0deccb-e6b1-4be0-b033-e023e584c020",
   "metadata": {},
   "source": [
    "Pytesseract only reads text from images, so we need to convert each page of the PDF to an image and use pytesseract on that."
   ]
  },
  {
   "cell_type": "markdown",
   "id": "81f55c9e-973a-4b46-886b-58a3a2c63583",
   "metadata": {},
   "source": [
    "### Convert PDF to image(s)"
   ]
  },
  {
   "cell_type": "code",
   "execution_count": 5,
   "id": "136fe6a8-7219-4279-9ced-937b05f77922",
   "metadata": {},
   "outputs": [
    {
     "name": "stderr",
     "output_type": "stream",
     "text": [
      "100%|██████████| 188/188 [12:02<00:00,  3.84s/it]\n"
     ]
    }
   ],
   "source": [
    "pages = []\n",
    "with tempfile.TemporaryDirectory() as temp_dir:\n",
    "    images = convert_from_path(pdf_file.selected, output_folder=temp_dir)\n",
    "    for image in tqdm(images):\n",
    "        page = pytesseract.image_to_string(image, config=TESS_CONFIG)\n",
    "        page = clean_text(page, replace={'(*': '(X'})\n",
    "        pages.append(page)"
   ]
  },
  {
   "cell_type": "code",
   "execution_count": 6,
   "id": "18497841-1f00-4221-98da-fc567f60c9a5",
   "metadata": {},
   "outputs": [],
   "source": [
    "paper = '\\n\\n'.join(pages)\n",
    "paper = re.sub(r'(\\S)\\n(\\S)', r'\\1 \\2', paper)\n",
    "\n",
    "with open(text_file.selected, 'w') as txt_file:\n",
    "    txt_file.write(paper)"
   ]
  },
  {
   "cell_type": "markdown",
   "id": "e03ab5db-bbe2-4c4d-886f-af99dc1936ec",
   "metadata": {},
   "source": [
    "## Manually edit the text"
   ]
  },
  {
   "cell_type": "markdown",
   "id": "f4765d17-c903-460f-be8d-3f488713291f",
   "metadata": {},
   "source": [
    "Remove headers and footers and figure captions. We need to do this manually for now."
   ]
  },
  {
   "cell_type": "markdown",
   "id": "ed51fc8b-f26f-484e-a635-ef082159b797",
   "metadata": {},
   "source": [
    "## Normalize the text"
   ]
  },
  {
   "cell_type": "code",
   "execution_count": 23,
   "id": "e9b3ab48-0cf8-4539-aa3f-ce3aa5d71e17",
   "metadata": {},
   "outputs": [],
   "source": [
    "with open(text_file.selected) as txt_file:\n",
    "    paper = txt_file.read()\n",
    "\n",
    "paper = re.sub(r'(\\S)\\n(\\S)', r'\\1 \\2', paper)\n",
    "paper = re.sub(r'\\n\\n+', r'\\n', paper)\n",
    "\n",
    "with open(text_file.selected, 'w') as txt_file:\n",
    "    txt_file.write(paper)"
   ]
  },
  {
   "cell_type": "code",
   "execution_count": null,
   "id": "c93394fa-7bbe-4dca-8a2d-cccb018a1d27",
   "metadata": {},
   "outputs": [],
   "source": []
  }
 ],
 "metadata": {
  "kernelspec": {
   "display_name": "Python 3",
   "language": "python",
   "name": "python3"
  },
  "language_info": {
   "codemirror_mode": {
    "name": "ipython",
    "version": 3
   },
   "file_extension": ".py",
   "mimetype": "text/x-python",
   "name": "python",
   "nbconvert_exporter": "python",
   "pygments_lexer": "ipython3",
   "version": "3.9.5"
  },
  "varInspector": {
   "cols": {
    "lenName": 16,
    "lenType": 16,
    "lenVar": 40
   },
   "kernels_config": {
    "python": {
     "delete_cmd_postfix": "",
     "delete_cmd_prefix": "del ",
     "library": "var_list.py",
     "varRefreshCmd": "print(var_dic_list())"
    },
    "r": {
     "delete_cmd_postfix": ") ",
     "delete_cmd_prefix": "rm(",
     "library": "var_list.r",
     "varRefreshCmd": "cat(var_dic_list()) "
    }
   },
   "types_to_exclude": [
    "module",
    "function",
    "builtin_function_or_method",
    "instance",
    "_Feature"
   ],
   "window_display": false
  }
 },
 "nbformat": 4,
 "nbformat_minor": 5
}
